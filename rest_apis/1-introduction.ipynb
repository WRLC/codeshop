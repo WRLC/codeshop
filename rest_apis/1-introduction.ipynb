{
 "cells": [
  {
   "cell_type": "markdown",
   "metadata": {},
   "source": [
    "# REST APIs, and RESTful Web Services\n",
    "\n",
    "## What is an API\n",
    "\n",
    "API stands for application programming interface. Our working definition for the purpose of this workshop, is that an API is a set of tools written for a computer program to make interacting with that program easier. [Wikipdedia has more](https://en.wikipedia.org/wiki/Application_programming_interface). \n",
    "\n",
    "## REST APIs\n",
    "\n",
    "Many times when people are throwing around the term _API_ in libraries they are referring to REST APIs. [REST](https://en.wikipedia.org/wiki/Representational_state_transfer)--which stands for representaitional state transfer--is a type of API that works by using the HTTP protocol to provide an interface for an application. We (probably) all use the HTTP protocol every day, as it's the protocol that web browsing works on. We're reading data in this workshop, so we'll be working with GET requests. When you visit a web page in your browser, you're are issuing a GET request to the remote webserver for the resource identified by the URL. When you enter your name and password to log in, you're issuing a POST request to send the username and password to the server.\n",
    "\n",
    "## Open Library Book Covers API\n",
    "\n",
    "One of the great things about REST being built around HTTP, is that we can use web browsers to issue simple GET requests, so let's make our first api call of the day, and follow this link:\n",
    "\n",
    "http://covers.openlibrary.org/b/oclc/62860573-L.jpg\n",
    "\n",
    "\n",
    "Hello indeed. We just made a API call to a RESTful web service provided by Open LIbrary. The purpose of this API is give you book covers. Documentation on this API is availabe here: https://openlibrary.org/dev/docs/api/covers\n",
    "\n",
    "Let's break down what just happened. Open library describes the request format like this:\n",
    "\n",
    "```http://covers.openlibrary.org/b/$key/$value-$size.jpg```\n",
    "\n",
    "* `http://covers.openlibrary.org/b/` is the url for the API they're providing us.\n",
    "* for the `$key` section, we sent the string \"oclc\" to tell the API that we want to look up the cover by OCLC number.\n",
    "* for the `$value` we sent the OCLC number for the book we want the cover of.\n",
    "* Finally, for `$size` we sent \"L\" for the size of the image we wanted returned.\n",
    "\n",
    "### Make your own request\n",
    "\n",
    "Build your own request for a cover using the OpenLibrary covers API. Search OpenLibrary's catalog for a book and put together a new request using notepad:\n",
    "\n",
    "https://openlibrary.org/\n",
    "\n",
    "### Conclusion\n",
    "This is none too thrilling, but covers many of the basic concepts invovled in working with REST Apis. In the next examples we'll write some code and work with some richer APIs."
   ]
  }
 ],
 "metadata": {
  "kernelspec": {
   "display_name": "Python 3",
   "language": "python",
   "name": "python3"
  },
  "language_info": {
   "codemirror_mode": {
    "name": "ipython",
    "version": 3
   },
   "file_extension": ".py",
   "mimetype": "text/x-python",
   "name": "python",
   "nbconvert_exporter": "python",
   "pygments_lexer": "ipython3",
   "version": "3.6.3"
  }
 },
 "nbformat": 4,
 "nbformat_minor": 2
}
