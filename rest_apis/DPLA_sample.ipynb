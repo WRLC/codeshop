{
 "cells": [
  {
   "cell_type": "markdown",
   "metadata": {},
   "source": [
    "# DPLA\n",
    "In this notebook we'll look at getting some item records out of DPLA's item API. As promised, we'll be interacting with this API programatically. We'll be using python3 and the requests and json modules for python. \n",
    "\n",
    "## Detour: notebooks\n",
    "As a quick aside, were working in jupyter notebooks. The cells that start with \"In []:\" are interactive and will run whatever python code you put into them. To edit a cell, double click on it and edit the text. To run a cell, click on it, and then press Ctrl + Enter on your keyboard. Try entering your name instead of \"YOUR_NAME\" below and running the cell:"
   ]
  },
  {
   "cell_type": "code",
   "execution_count": null,
   "metadata": {},
   "outputs": [],
   "source": [
    "name = \"YOUR_NAME\"\n",
    "print(\"Hello, \" + name)"
   ]
  },
  {
   "cell_type": "markdown",
   "metadata": {},
   "source": [
    "## Back to the APIs now\n",
    "We'll start by importing the python modules needed in this example. Run the cell below."
   ]
  },
  {
   "cell_type": "code",
   "execution_count": null,
   "metadata": {},
   "outputs": [],
   "source": [
    "import requests\n",
    "import json"
   ]
  },
  {
   "cell_type": "markdown",
   "metadata": {},
   "source": [
    "Great, we're all set up to make some API calls from python. DPLA has a great beginners introduction to using thier API here: https://dp.la/info/developers/codex/api-basics/. In thier introduction, DPLA tells us we need to get an API key before we can start making reqeusts by posting our email address to `https://api.dp.la/v2/api_key/`. Enter your email address below instead of YOUR_EMAIL and run the cell. Notice on the second line, we're using the \"post\" HTTP method. That's because we're sending information to the DPLA API with this request "
   ]
  },
  {
   "cell_type": "code",
   "execution_count": null,
   "metadata": {},
   "outputs": [],
   "source": [
    "email = 'YOUR_EMAIL'\n",
    "key_request = requests.post('https://api.dp.la/v2/api_key/' + email)\n",
    "print(key_request.content)"
   ]
  },
  {
   "cell_type": "markdown",
   "metadata": {},
   "source": [
    "What happened here:\n",
    "* We assigned your email to a variable called 'email'\n",
    "* We posted your email to the DPLA api at `https://api.dp.la/v2/api_key/` And then assinged the API's response to a variable called key_request.\n",
    "* Last, we printed the content of the response we got back.\n",
    "\n",
    "Looks like DPLA sent the key to your email. Find the key in your email and paste assign it to the API_KEY variable instead of YOUR_API_KEY in the cell below."
   ]
  },
  {
   "cell_type": "code",
   "execution_count": null,
   "metadata": {},
   "outputs": [],
   "source": [
    "API_KEY = 'f923c7d4ee4c888b9bb258efb3d4e6c6'\n",
    "print('your api key is: ' + API_KEY)"
   ]
  },
  {
   "cell_type": "markdown",
   "metadata": {},
   "source": [
    "Now we're ready to get some data. Let's try using the example DPLA in thier introduction: https://dp.la/info/developers/codex/api-basics/\n",
    "\n",
    "Looks like we can do a search for the term weasels by making the follwing call to the api with our api key added on:\n",
    "https://api.dp.la/v2/items?q=weasels&api_key=\n",
    "\n",
    "Since this is a GET request, lets try to see what happens when we just paste it into our browser and have the brower make the API call. You should see a whole bunch of plain text data come back. We can do the same request programatically below. To make it easier to repeat, we'll assign the api url + our api key to a variable called dpla_api.\n"
   ]
  },
  {
   "cell_type": "code",
   "execution_count": null,
   "metadata": {},
   "outputs": [],
   "source": [
    "dpla_api = 'https://api.dp.la/v2/items?api_key=' + API_KEY + '&q='\n",
    "search_request = requests.get(dpla_api + 'dogs')\n",
    "print(search_request.status_code)"
   ]
  },
  {
   "cell_type": "markdown",
   "metadata": {},
   "source": [
    "In the cell above, we made the same request we made with the browser, and the checked what response code we got back from the API. In HTTP 200 means sucess, so we must have got something back. We can also print the content of the request."
   ]
  },
  {
   "cell_type": "code",
   "execution_count": null,
   "metadata": {},
   "outputs": [],
   "source": [
    "print(search_request.content)"
   ]
  },
  {
   "cell_type": "markdown",
   "metadata": {},
   "source": [
    "At this point we have a big pile of json, but it's hard to read. Lets use python's json library to explore it a little. First we'll use the json library to parse the response as JSON."
   ]
  },
  {
   "cell_type": "code",
   "execution_count": null,
   "metadata": {},
   "outputs": [],
   "source": [
    "# use python's json library to save the request data as a json\n",
    "search_json = json.loads(search_request.content)"
   ]
  },
  {
   "cell_type": "markdown",
   "metadata": {},
   "source": [
    "Json is really just a python dictionary. we can use the .keys() method to see what kinds of things we got back in the API"
   ]
  },
  {
   "cell_type": "code",
   "execution_count": null,
   "metadata": {},
   "outputs": [],
   "source": [
    "search_json.keys()"
   ]
  },
  {
   "cell_type": "markdown",
   "metadata": {},
   "source": [
    "Lets look more closely at the documents "
   ]
  },
  {
   "cell_type": "code",
   "execution_count": null,
   "metadata": {},
   "outputs": [],
   "source": [
    "# What is docs?\n",
    "type(search_json['docs'])\n",
    "\n",
    "# It's a list, so lets just peek a the first one\n",
    "# to see what the structure looks like\n",
    "search_json['docs'][0]"
   ]
  },
  {
   "cell_type": "code",
   "execution_count": null,
   "metadata": {},
   "outputs": [],
   "source": [
    "# We can slice up our response too. For example,\n",
    "# let's grab just the titles and a link to the\n",
    "# resource for every document we got back\n",
    "\n",
    "for doc in search_json['docs']:\n",
    "    print(doc['sourceResource']['title'])\n",
    "    print(doc['isShownAt'])\n"
   ]
  },
  {
   "cell_type": "markdown",
   "metadata": {},
   "source": [
    "We'll define a function here to write the documents form our API resonse to a document and call it below."
   ]
  },
  {
   "cell_type": "code",
   "execution_count": null,
   "metadata": {},
   "outputs": [],
   "source": [
    "# Write our docs to a file\n",
    "def write_docs(search_response, outfile):\n",
    "    myjson = json.loads(search_response.content)\n",
    "    fh = open(outfile, 'w')\n",
    "    for doc in myjson['docs']:\n",
    "        fh.write(json.dumps(doc) + '\\n')\n",
    "    fh.close()\n",
    "    \n",
    "# do a new search\n",
    "new_search = requests.get(YOUR_API_REQUST + '&page_size=500')\n",
    "print(new_search.status_code)\n",
    "write_docs(new_search, name + \".json\")"
   ]
  }
 ],
 "metadata": {
  "kernelspec": {
   "display_name": "Python 3",
   "language": "python",
   "name": "python3"
  },
  "language_info": {
   "codemirror_mode": {
    "name": "ipython",
    "version": 3
   },
   "file_extension": ".py",
   "mimetype": "text/x-python",
   "name": "python",
   "nbconvert_exporter": "python",
   "pygments_lexer": "ipython3",
   "version": "3.6.0"
  }
 },
 "nbformat": 4,
 "nbformat_minor": 2
}
