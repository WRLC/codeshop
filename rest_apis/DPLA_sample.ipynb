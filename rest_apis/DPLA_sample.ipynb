{
 "cells": [
  {
   "cell_type": "markdown",
   "metadata": {},
   "source": [
    "# DPLA\n",
    "In this notebook we'll look at getting some item records out of DPLA's item API. We'll be using python3 and the requests and json modules. We'll start by importing the required modules:"
   ]
  },
  {
   "cell_type": "code",
   "execution_count": null,
   "metadata": {},
   "outputs": [],
   "source": [
    "import requests\n",
    "import json"
   ]
  },
  {
   "cell_type": "markdown",
   "metadata": {},
   "source": [
    "DPLA has a great beginners introduction to using thier API here: https://dp.la/info/developers/codex/api-basics/. In thier introduction, DPLA tells us we need to get an API key before we can start making reqeust. We can get the key with an API call. We'll be using the post method to give the dpla api our email address In the following cell. "
   ]
  },
  {
   "cell_type": "code",
   "execution_count": null,
   "metadata": {},
   "outputs": [],
   "source": [
    "email = ''\n",
    "key_request = requests.post('https://api.dp.la/v2/api_key/' + email)\n",
    "key_request.content"
   ]
  },
  {
   "cell_type": "markdown",
   "metadata": {},
   "source": [
    "Looks like DPLA sent the key to your email. Find the key in your email and paste assign it to the API_KEY variable in the cell below."
   ]
  },
  {
   "cell_type": "code",
   "execution_count": null,
   "metadata": {},
   "outputs": [],
   "source": [
    "API_KEY = ''\n",
    "print('your api key is: ' + API_KEY)"
   ]
  },
  {
   "cell_type": "markdown",
   "metadata": {},
   "source": [
    "Great, now we're ready to get some data. Let's try using the example DPLA in thier introduction: https://dp.la/info/developers/codex/api-basics/\n",
    "\n",
    "Looks like we can do a search for the term weasels by making the follwing call to the api with our api key added on:\n",
    "https://api.dp.la/v2/items?q=weasels&api_key=\n",
    "\n",
    "Since this is a GET request, lets try to see what happens when we just paste it into our browser and have the brower make the API call. You should see a whole bunch of plain text data come back. We can do the same request programatically below. To make it easier to repeat, we'll assign the api url + our api key to a variable called dpla_api.\n"
   ]
  },
  {
   "cell_type": "code",
   "execution_count": null,
   "metadata": {},
   "outputs": [],
   "source": [
    "dpla_api = 'https://api.dp.la/v2/items?api_key=' + API_KEY + '&q='\n",
    "search_request = requests.get(dpla_api + 'dogs')\n",
    "print(search_request.status_code)"
   ]
  },
  {
   "cell_type": "markdown",
   "metadata": {},
   "source": [
    "In the cell above, we made the same request we made with the browser, and the checked what response code we got back from the API. In HTTP 200 means sucess, so we must have got something back. We can also print the content of the request."
   ]
  },
  {
   "cell_type": "code",
   "execution_count": null,
   "metadata": {},
   "outputs": [],
   "source": [
    "print(search_request.content)"
   ]
  },
  {
   "cell_type": "markdown",
   "metadata": {},
   "source": [
    "At this point we have a big pile of json, but it's hard to read. Lets use python's json library to explore it a little. First we'll use the json library to parse the response as JSON."
   ]
  },
  {
   "cell_type": "code",
   "execution_count": null,
   "metadata": {},
   "outputs": [],
   "source": [
    "# use python's json library to save the request data as a json\n",
    "search_json = json.loads(search_request.content)"
   ]
  },
  {
   "cell_type": "markdown",
   "metadata": {},
   "source": [
    "Json is really just a python dictionary. we can use the .keys() method to see what kinds of things we got back in the API"
   ]
  },
  {
   "cell_type": "code",
   "execution_count": null,
   "metadata": {},
   "outputs": [],
   "source": [
    "search_json.keys()"
   ]
  },
  {
   "cell_type": "markdown",
   "metadata": {},
   "source": [
    "Lets look more closely at the documents "
   ]
  },
  {
   "cell_type": "code",
   "execution_count": null,
   "metadata": {},
   "outputs": [],
   "source": [
    "# What is docs?\n",
    "type(search_json['docs'])\n",
    "\n",
    "# It's a list, so lets just peek a the first one\n",
    "# to see what the structure looks like\n",
    "search_json['docs'][0]\n",
    "    \n",
    "# Loop through the whole list and print the titles\n",
    "for doc in search_json['docs']:\n",
    "    print(doc['sourceResource']['title'])"
   ]
  },
  {
   "cell_type": "markdown",
   "metadata": {},
   "source": [
    "We'll define a function here to write the documents form our API resonse to a document and call it below."
   ]
  },
  {
   "cell_type": "code",
   "execution_count": null,
   "metadata": {},
   "outputs": [],
   "source": [
    "# Write our docs to a file\n",
    "def write_docs(search_response, outfile):\n",
    "    myjson = json.loads(search_response.content)\n",
    "    fh = open(outfile, 'w')\n",
    "    for doc in myjson['docs']:\n",
    "        fh.write(json.dumps(doc) + '\\n')\n",
    "    fh.close()\n",
    "    \n",
    "# do a new search\n",
    "new_search = search_request = requests.get(dpla_api + 'detroit' + '&page_size=500')\n",
    "print(new_search.status_code)\n",
    "write_docs(new_search, \"docs.json\")"
   ]
  }
 ],
 "metadata": {
  "kernelspec": {
   "display_name": "Python 3",
   "language": "python",
   "name": "python3"
  },
  "language_info": {
   "codemirror_mode": {
    "name": "ipython",
    "version": 3
   },
   "file_extension": ".py",
   "mimetype": "text/x-python",
   "name": "python",
   "nbconvert_exporter": "python",
   "pygments_lexer": "ipython3",
   "version": "3.6.0"
  }
 },
 "nbformat": 4,
 "nbformat_minor": 2
}
