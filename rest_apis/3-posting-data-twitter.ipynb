{
 "cells": [
  {
   "cell_type": "markdown",
   "metadata": {},
   "source": [
    "## Twitter\n",
    "\n",
    "Twitter provides a REST API that lets you search, and post tweets like you can from the web client.\n",
    "\n",
    "### Aunthentication\n",
    "Twitter uses a more complex authentication scheme than DPLA for logging in. For the purpose of this workshop, I've created a twitter account called @WRLC_Codeshop, and registered a new application at dev.twitter.com/apps. The authentication protocol is called [OAuth](https://en.wikipedia.org/wiki/OAuth), and it's a bit outside the scope of this workshop. But the idea is that there is that we send it a set of secret tokens that identify us:"
   ]
  },
  {
   "cell_type": "code",
   "execution_count": null,
   "metadata": {},
   "outputs": [],
   "source": [
    "# import libraries\n",
    "import json\n",
    "from random import randint\n",
    "import requests\n",
    "from requests_oauthlib import OAuth1Session\n",
    "from urllib.parse import quote_plus\n",
    "import yaml\n",
    "\n",
    "# We'll also do the twitter authentication bit in this cell,\n",
    "# your app credentials should be in ../tokens.yml\n",
    "with open('../tokens.yml', 'r') as fh:\n",
    "    tokens = yaml.load(fh)\n",
    "\n",
    "\n",
    "twitter_session = OAuth1Session(tokens['consumer_key'],\n",
    "     tokens['consumer_secret'],\n",
    "     tokens['access_token'],\n",
    "     tokens['access_token_secret'])\n"
   ]
  },
  {
   "cell_type": "markdown",
   "metadata": {},
   "source": [
    "### Testing...\n",
    "Twitter's api has tons of functions, but it works alot the same as the DPLA API we were just using. For example, we can use it to lookup a user. Documentation for the user lookup API call is here: https://developer.twitter.com/en/docs/accounts-and-users/follow-search-get-users/api-reference/get-users-lookup\n",
    "\n",
    "So in this example, the api url is `https://api.twitter.com/1.1/usrs/lookup.json`. And we're passing it `?screename=SOME_NAME` to look for a user. Run the cell below to see an example."
   ]
  },
  {
   "cell_type": "code",
   "execution_count": null,
   "metadata": {},
   "outputs": [],
   "source": [
    "# Sample Get Request\n",
    "json.loads(\n",
    "    twitter_session.get(\n",
    "        'https://api.twitter.com/1.1/users/lookup.json?screen_name=wrlc'\n",
    "    ).content)"
   ]
  },
  {
   "cell_type": "markdown",
   "metadata": {},
   "source": [
    "### Hands on: POST\n",
    "So far, we've just been getting data out of APIs, we can also use them to send informaion to an application. In this example, we'll put together a twitter bot useing twitter's API. It will tweet out links to items we found in the DPLA API.\n",
    "\n",
    "Start by looking at the documentation for the satuses/update (tweet) API:\n",
    "\n",
    "https://developer.twitter.com/en/docs/tweets/post-and-engage/api-reference/post-statuses-update\n",
    "\n",
    "You'll notice a familliar pattern. There is a resource URL for the API endpoint, and the a list of differnt parameters we can pass to the API to make it do different things. \n",
    "\n",
    "#### Example\n",
    "\n",
    "Let's break down the example request `POST https://api.twitter.com/1.1/statuses/update.json?status=Maybe%20he%27ll%20finally%20find%20his%20keys.%20%23peterfalk`\n",
    "\n",
    "For our purposes, let's break that URL into three parts.\n",
    "\n",
    "1. The first part is the Resoruce URL that we can pass parameters too: \n",
    "```\n",
    "https://api.twitter.com/1.1/statuses/update\n",
    "```\n",
    "2. Then comes the parameters: \n",
    "```\n",
    "?status=\n",
    "```\n",
    "3. Finally, there's the message itself: \n",
    "```\n",
    "Maybe%20he%27ll%20finally%20find%20his%20keys.%20%23peterfalk\n",
    "```\n",
    "\n",
    "#### Setup"
   ]
  },
  {
   "cell_type": "code",
   "execution_count": null,
   "metadata": {},
   "outputs": [],
   "source": [
    "# Our bot is a simple bot and 'status' is the only parameter we'll be\n",
    "# using, so let's go ahead and combine the first two parts of \n",
    "# our api call into a variable. I'll call mine post_url for this example\n",
    "\n",
    "# Your code here\n",
    "post_url = 'https://api.twitter.com/1.1/statuses/update?status='"
   ]
  },
  {
   "cell_type": "code",
   "execution_count": null,
   "metadata": {},
   "outputs": [],
   "source": [
    "# The satus needs to be urlencoded. i.e. have not spaces\n",
    "# we imported the quote_plus function above so we can do that\n",
    "\n",
    "# For example:\n",
    "\n",
    "quote_plus(\"Here's what I want to tweet\")"
   ]
  },
  {
   "cell_type": "code",
   "execution_count": null,
   "metadata": {},
   "outputs": [],
   "source": [
    "# We have enough to send a tweet now we'll use the oauth\n",
    "# session we started up earlier to POST (instead of GET)\n",
    "# our message to twitter\n",
    "\n",
    "twitter_session.post(YOUR CODE HERE)"
   ]
  },
  {
   "cell_type": "markdown",
   "metadata": {},
   "source": [
    "### Putting it together with DPLA\n",
    "Ok, now that we can tweet, let's feed our tweet bot some data. We'll feed it with items from our DPLA searches. "
   ]
  },
  {
   "cell_type": "code",
   "execution_count": null,
   "metadata": {},
   "outputs": [],
   "source": [
    "# how about getting some data to post about:\n",
    "# My example search is below, I'm going with a robot theme\n",
    "#https://api.dp.la/v2/items?sourceResource.type=image&sourceResource.subject.name=robots&api_key=API_KEY&page_size=10\n",
    "\n",
    "# Modify the code below to do your DPLA search again\n",
    "items_response = requests.get(DPLA_SEARCH)"
   ]
  },
  {
   "cell_type": "code",
   "execution_count": null,
   "metadata": {},
   "outputs": [],
   "source": [
    "# Check that you got some content back\n",
    "# a few ways to to that would be to call the .content or\n",
    "# .json() methods on your items_response like items_response.method"
   ]
  },
  {
   "cell_type": "code",
   "execution_count": null,
   "metadata": {},
   "outputs": [],
   "source": [
    "# Ok our twitter bot will tweet out a saying plus a link to \n",
    "# a digital object form your search results\n",
    "\n",
    "# we'll use a little trick here to pick a random object form your list\n",
    "\n",
    "#tweet_text = items_response.json()['docs'][randint(0,10)]['isShownAt']\n",
    "\n"
   ]
  },
  {
   "cell_type": "code",
   "execution_count": null,
   "metadata": {},
   "outputs": [],
   "source": [
    "# I'm going to give the robot some things to say along with the link to the \n",
    "# DPLA item here,\n",
    "# You can modify this to fit your theme if you want.\n",
    "\n",
    "sayings = [\n",
    "    'bloop bleep ',\n",
    "    'calculating...',\n",
    "]"
   ]
  },
  {
   "cell_type": "code",
   "execution_count": null,
   "metadata": {},
   "outputs": [],
   "source": [
    "# Now let's send some tweets\n",
    "tweet = twitter_session.post(post_endpoint\n",
    "                         + quote_plus(sayings[randint(0, len(sayings))]\n",
    "                         + tweet_text))"
   ]
  },
  {
   "cell_type": "code",
   "execution_count": null,
   "metadata": {},
   "outputs": [],
   "source": [
    "#and we can check the response here\n",
    "tweet.json()"
   ]
  }
 ],
 "metadata": {
  "kernelspec": {
   "display_name": "Python 3",
   "language": "python",
   "name": "python3"
  },
  "language_info": {
   "codemirror_mode": {
    "name": "ipython",
    "version": 3
   },
   "file_extension": ".py",
   "mimetype": "text/x-python",
   "name": "python",
   "nbconvert_exporter": "python",
   "pygments_lexer": "ipython3",
   "version": "3.6.0"
  }
 },
 "nbformat": 4,
 "nbformat_minor": 2
}
