{
 "cells": [
  {
   "cell_type": "markdown",
   "metadata": {},
   "source": [
    "# Alma (discussion, sorry no real examples)\n",
    "\n",
    "We had a look at the Alma APIs, they look promising for doing various operations on items, records, patrons, and transactions. The API looks less useful for doing the type of analysis we did in the previous workbooks (fortunately Alma has an analytics tool for that). \n",
    "\n",
    "Here's the documenation for the Alma APIs: https://developers.exlibrisgroup.com/alma/apis\n",
    "\n",
    "Here's an example of an API call for a bib record:\n",
    "\n",
    "https://api-eu.hosted.exlibrisgroup.com/almaws/v1/bibs/9910020935804101?apikey="
   ]
  }
 ],
 "metadata": {
  "kernelspec": {
   "display_name": "Python 3",
   "language": "python",
   "name": "python3"
  },
  "language_info": {
   "codemirror_mode": {
    "name": "ipython",
    "version": 3
   },
   "file_extension": ".py",
   "mimetype": "text/x-python",
   "name": "python",
   "nbconvert_exporter": "python",
   "pygments_lexer": "ipython3",
   "version": "3.6.3"
  }
 },
 "nbformat": 4,
 "nbformat_minor": 2
}
