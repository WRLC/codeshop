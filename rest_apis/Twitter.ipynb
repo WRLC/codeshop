{
 "cells": [
  {
   "cell_type": "code",
   "execution_count": null,
   "metadata": {},
   "outputs": [],
   "source": [
    "# import libraries\n",
    "import json\n",
    "import requests\n",
    "from requests_oauthlib import OAuth1Session\n",
    "import yaml\n",
    "\n",
    "# We'll also do the twitter authentication bit in this cell,\n",
    "# your app credentials should be in ../tokens.yml\n",
    "with open('../tokens.yml', 'r') as fh:\n",
    "    tokens = yaml.load(fh)\n",
    "\n",
    "auth = OAuth1Session(tokens['consumer_key'],\n",
    "     tokens['consumer_secret'],\n",
    "     tokens['access_token'],\n",
    "     tokens['access_token_secret'])\n"
   ]
  },
  {
   "cell_type": "code",
   "execution_count": null,
   "metadata": {},
   "outputs": [],
   "source": []
  }
 ],
 "metadata": {
  "kernelspec": {
   "display_name": "Python 3",
   "language": "python",
   "name": "python3"
  },
  "language_info": {
   "codemirror_mode": {
    "name": "ipython",
    "version": 3
   },
   "file_extension": ".py",
   "mimetype": "text/x-python",
   "name": "python",
   "nbconvert_exporter": "python",
   "pygments_lexer": "ipython3",
   "version": "3.6.0"
  }
 },
 "nbformat": 4,
 "nbformat_minor": 2
}
