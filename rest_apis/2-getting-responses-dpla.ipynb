{
 "cells": [
  {
   "cell_type": "markdown",
   "metadata": {},
   "source": [
    "# DPLA\n",
    "In this notebook we'll look at getting some item records out of DPLA's item API. As promised, we'll be interacting with this API programatically. We'll be using python3 and the requests and json modules for python. \n",
    "\n",
    "Start by entering your name here, we'll use it later"
   ]
  },
  {
   "cell_type": "code",
   "execution_count": null,
   "metadata": {},
   "outputs": [],
   "source": [
    "name = \"YOUR_NAME\"\n",
    "print(\"Hello, \" + name)"
   ]
  },
  {
   "cell_type": "markdown",
   "metadata": {},
   "source": [
    "We're going to be working with two python modules, requests for making HTTP requests automatically, and json, for loading up those requests as JSON."
   ]
  },
  {
   "cell_type": "code",
   "execution_count": null,
   "metadata": {},
   "outputs": [],
   "source": [
    "import requests\n",
    "import json"
   ]
  },
  {
   "cell_type": "markdown",
   "metadata": {},
   "source": [
    "Great, we're all set up to make some API calls from python. DPLA has a great beginners introduction to using thier API here: https://dp.la/info/developers/codex/api-basics/. In thier introduction, DPLA tells us we need to get an API key before we can start making reqeusts by posting our email address to `https://api.dp.la/v2/api_key/`. Enter your email address below instead of YOUR_EMAIL and run the cell. Notice on the second line, we're using the \"post\" HTTP method. That's because we're sending information to the DPLA API with this request "
   ]
  },
  {
   "cell_type": "code",
   "execution_count": null,
   "metadata": {},
   "outputs": [],
   "source": [
    "email = 'YOUR_EMAIL'\n",
    "\n",
    "key_request = requests.post('https://api.dp.la/v2/api_key/' + email)\n",
    "\n",
    "print(key_request.content)"
   ]
  },
  {
   "cell_type": "markdown",
   "metadata": {},
   "source": [
    "What happened here:\n",
    "* We assigned your email to a variable called 'email'\n",
    "* We posted your email to the DPLA api at `https://api.dp.la/v2/api_key/` And then assinged the API's response to a variable called key_request.\n",
    "* Last, we printed the content of the response we got back.\n",
    "\n",
    "Looks like DPLA sent the key to your email. Find the key in your email and paste assign it to the API_KEY variable instead of YOUR_API_KEY in the cell below."
   ]
  },
  {
   "cell_type": "code",
   "execution_count": null,
   "metadata": {},
   "outputs": [],
   "source": [
    "API_KEY = 'YOUR_API_KEY'\n",
    "print('your api key is: ' + API_KEY)"
   ]
  },
  {
   "cell_type": "markdown",
   "metadata": {},
   "source": [
    "Now we're ready to get some data. Let's try using the example DPLA in their introduction: https://dp.la/info/developers/codex/api-basics/\n",
    "\n",
    "Looks like we can do a search for the term weasels by making the follwing call to the api with our api key added on:\n",
    "https://api.dp.la/v2/items?q=weasels&api_key=\n",
    "\n",
    "Since this is a GET request, lets try to see what happens when we just paste it into our browser and have the brower make the API call. You should see a whole bunch of plain text data come back. That data should match what you see if you just search for weasels on the DPLA website.\n",
    "\n",
    "### Hands on: make requests programatically\n",
    "\n",
    "The whole point of an API is to make it easier to interact with something programatically, so lets try that. In python, we can use the requests module to make HTTP requests the same way we do in our web browser. "
   ]
  },
  {
   "cell_type": "code",
   "execution_count": null,
   "metadata": {},
   "outputs": [],
   "source": [
    "# the equivelent of typing a URL into your browser's\n",
    "# address bar is requests.get('SOME URL'). Try it below\n",
    "# with the request we just made in the web browser:\n",
    "\n",
    "requests.get('YOUR_REQUEST_HERE')\n"
   ]
  },
  {
   "cell_type": "markdown",
   "metadata": {},
   "source": [
    "You should have got something back that looks like `<Response [200]>`. 200 is the HTTP status code for success, but it we'll want more information about our respoonse than that. For the rest of this workshop, we'll assign the response we get back to a variable like this: `my_request = requests.get('http://somecall.tld')`. That way we can work with what we got back from the api."
   ]
  },
  {
   "cell_type": "code",
   "execution_count": null,
   "metadata": {},
   "outputs": [],
   "source": [
    "#  Make your request, but this time assign it to a variable. Remember the syntax is\n",
    "# my_request = requests.get('http://myrequest.tld')\n",
    "\n"
   ]
  },
  {
   "cell_type": "code",
   "execution_count": null,
   "metadata": {},
   "outputs": [],
   "source": [
    "# now we can do a bunch of differnt stuff with our request\n",
    "# like look at the content:\n",
    "\n",
    "my_request.content"
   ]
  },
  {
   "cell_type": "markdown",
   "metadata": {},
   "source": [
    "A big pile of text is a little messy. Fortunately we the requests module comes with a method to translate a response from a pile text into a pile of JSON, which we know and love (provided the response is valid JSON)."
   ]
  },
  {
   "cell_type": "code",
   "execution_count": null,
   "metadata": {},
   "outputs": [],
   "source": [
    "# We can also read the reqeust as JSON. using the .json() method\n",
    "# .json() works just like .content above, try it below (don't forget the parentheses)\n",
    "\n",
    "search_json = YOUR_CODE_HERE"
   ]
  },
  {
   "cell_type": "markdown",
   "metadata": {},
   "source": [
    "Recalling that we can look at keys to a JSON object like this, let's look more closely at what's defined"
   ]
  },
  {
   "cell_type": "code",
   "execution_count": null,
   "metadata": {},
   "outputs": [],
   "source": [
    "# the syntax to look at some JSON object's keys is:\n",
    "# some_object.keys()\n",
    "\n"
   ]
  },
  {
   "cell_type": "markdown",
   "metadata": {},
   "source": [
    "Lets look more closely at the docs key"
   ]
  },
  {
   "cell_type": "code",
   "execution_count": null,
   "metadata": {},
   "outputs": [],
   "source": [
    "# remember if we want to look at the data assigned to a key:\n",
    "# the syntax is some_json['key_name']\n",
    "\n"
   ]
  },
  {
   "cell_type": "code",
   "execution_count": null,
   "metadata": {},
   "outputs": [],
   "source": [
    "# docs is a list, so lets just peek a the first one\n",
    "# to see what the structure looks like\n",
    "# The notation for looking at one item in a list\n",
    "# is list[N] where N is the item's positin in the list\n",
    "# python counts from 0.\n",
    "\n",
    "# If you wanted to verify that search_json['docs'] is a\n",
    "# list yourself rather than taking my word for it you \n",
    "# could run:\n",
    "\n",
    "#type(search_json['docs']) \n",
    "\n",
    "search_json['docs'][0]"
   ]
  },
  {
   "cell_type": "code",
   "execution_count": null,
   "metadata": {},
   "outputs": [],
   "source": [
    "# We can slice up our response too. For example,\n",
    "# let's grab just the titles and a link to the\n",
    "# resource for every document we got back\n",
    "\n",
    "for each_document in search_json['docs']:\n",
    "    print(each_document['sourceResource']['title'])\n",
    "    print(each_document['isShownAt'] + '\\n')\n"
   ]
  },
  {
   "cell_type": "markdown",
   "metadata": {},
   "source": [
    "### Hands on: make a more complicated DPLA API call\n",
    "Our search above was a simple, but most RESTAPIs have  built in controllers that you can use to shape the data you get back, so you can get it in the format that is most convenient for your project with minimal post processing. \n",
    "\n",
    "Take a look at the docs for shaping requests here:\n",
    "\n",
    "https://dp.la/info/developers/codex/requests\n",
    "\n",
    "and craft a new request here below. My example subject search looks like this:\n",
    "`https://api.dp.la/v2/items?sourceResource.subject.name=\"Animals%20in%20human%20situations\"&api_key=`"
   ]
  },
  {
   "cell_type": "code",
   "execution_count": null,
   "metadata": {},
   "outputs": [],
   "source": [
    "# we'll use the same format as last time and assign the\n",
    "# results of our API call as a variable called adavnced_search_request\n",
    "\n",
    "advanced_search_request = requests.get('YOUR_ADVANCED_REQUEST')\n",
    "\n",
    "# did it work?\n",
    "advanced_search_request.json()"
   ]
  },
  {
   "cell_type": "markdown",
   "metadata": {},
   "source": [
    "You can run the cell below to save the docuements from your response into a file called yourname.json. in the codeshop-share directory."
   ]
  },
  {
   "cell_type": "code",
   "execution_count": null,
   "metadata": {},
   "outputs": [],
   "source": [
    "# Write our docs to a file\n",
    "def write_docs(search_response, outfile):\n",
    "    myjson = json.loads(search_response.content)\n",
    "    fh = open(outfile, 'w')\n",
    "    for doc in myjson['docs']:\n",
    "        fh.write(json.dumps(doc) + '\\n')\n",
    "    fh.close()\n",
    "    \n",
    "write_docs(advanced_search_request, \"~/codeshop-share/\" + name + \".json\")"
   ]
  }
 ],
 "metadata": {
  "kernelspec": {
   "display_name": "Python 3",
   "language": "python",
   "name": "python3"
  },
  "language_info": {
   "codemirror_mode": {
    "name": "ipython",
    "version": 3
   },
   "file_extension": ".py",
   "mimetype": "text/x-python",
   "name": "python",
   "nbconvert_exporter": "python",
   "pygments_lexer": "ipython3",
   "version": "3.6.0"
  }
 },
 "nbformat": 4,
 "nbformat_minor": 2
}
