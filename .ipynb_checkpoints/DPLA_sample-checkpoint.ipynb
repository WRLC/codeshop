{
 "cells": [
  {
   "cell_type": "markdown",
   "metadata": {},
   "source": [
    "# DPLA"
   ]
  },
  {
   "cell_type": "code",
   "execution_count": null,
   "metadata": {},
   "outputs": [],
   "source": [
    "import requests\n",
    "import json"
   ]
  },
  {
   "cell_type": "markdown",
   "metadata": {},
   "source": [
    "The DPLA Api requires you to get a key. We can get the key with an API call. We'll be using the post method to give the dpla api our email address, and we'll expect to get a key back as a response. In the following cell"
   ]
  },
  {
   "cell_type": "code",
   "execution_count": null,
   "metadata": {},
   "outputs": [],
   "source": [
    "email = 'ihardy@wrlc.org'\n",
    "key_request = requests.post('https://api.dp.la/v2/api_key/' + email)\n",
    "key_request.content"
   ]
  },
  {
   "cell_type": "markdown",
   "metadata": {},
   "source": [
    "Looks like DPLA sent the key to your email. Find the key in your email and paste assign it to the API_KEY variable in the cell below."
   ]
  },
  {
   "cell_type": "code",
   "execution_count": null,
   "metadata": {},
   "outputs": [],
   "source": [
    "API_KEY = ''\n",
    "print('your api key is: ' + API_KEY)"
   ]
  },
  {
   "cell_type": "markdown",
   "metadata": {},
   "source": [
    "Great, now we're ready to get some data. Let's try using the example DPLA has posted here: https://dp.la/info/developers/codex/api-basics/\n",
    "\n",
    "Looks like we can do a search for the term weasels by making the follwing call to the api with our api key added on:\n",
    "https://api.dp.la/v2/items?q=weasels&api_key=f923c7d4ee4c888b9bb258efb3d4e6c6\n",
    "\n",
    "Since this is a GET request, lets try to see what happens when we just paste it into our browser and have the brower make the API call. You should see a whole bunch of plaintext data come back. We can do the same request programatically below. To make it easier to make a bunch of calls we'll set up some variables for the URL root:\n"
   ]
  },
  {
   "cell_type": "code",
   "execution_count": null,
   "metadata": {},
   "outputs": [],
   "source": [
    "dpla_api = 'https://api.dp.la/v2/items?api_key=' + API_KEY + '&q='\n",
    "search_request = requests.get(dpla_api + 'dogs')\n",
    "print(search_request.status_code)"
   ]
  },
  {
   "cell_type": "markdown",
   "metadata": {},
   "source": [
    "In the cell above, we made the same request we made with the browser, and the checked what response code we got back from the API. In HTTP 200 means sucess, so we must have got something back. We can also print the content of the request."
   ]
  },
  {
   "cell_type": "code",
   "execution_count": null,
   "metadata": {},
   "outputs": [],
   "source": [
    "search_request.content"
   ]
  },
  {
   "cell_type": "code",
   "execution_count": null,
   "metadata": {},
   "outputs": [],
   "source": [
    "# use python's json library to save the request data as a json\n",
    "search_json = json.loads(search_request.content)\n",
    "\n",
    "# Looks at what things we got back\n",
    "search_json.keys()\n",
    "\n",
    "# What is docs?\n",
    "type(search_json['docs'])\n",
    "\n",
    "# What do docks look like?\n",
    "for doc in search_json['docs']:\n",
    "    print(doc.keys())\n",
    "\n"
   ]
  },
  {
   "cell_type": "markdown",
   "metadata": {},
   "source": [
    "Wi'll define a functino here to write the documents form our API resonse to a document and call it below."
   ]
  },
  {
   "cell_type": "code",
   "execution_count": null,
   "metadata": {},
   "outputs": [],
   "source": [
    "# Write our docs to a file\n",
    "def write_docs(search_response, outfile):\n",
    "    myjson = json.loads(search_response.content)\n",
    "    fh = open(outfile, 'w')\n",
    "    for doc in myjson['docs']:\n",
    "        fh.write(json.dumps(doc) + '\\n')\n",
    "    fh.close()\n",
    "    \n",
    "# do a new search\n",
    "new_search = search_request = requests.get(dpla_api + 'detroit' + '&page_size=500')\n",
    "print(new_search.status_code)\n",
    "write_docs(new_search, \"docs.json\")"
   ]
  }
 ],
 "metadata": {
  "kernelspec": {
   "display_name": "Python 3",
   "language": "python",
   "name": "python3"
  },
  "language_info": {
   "codemirror_mode": {
    "name": "ipython",
    "version": 3
   },
   "file_extension": ".py",
   "mimetype": "text/x-python",
   "name": "python",
   "nbconvert_exporter": "python",
   "pygments_lexer": "ipython3",
   "version": "3.6.0"
  }
 },
 "nbformat": 4,
 "nbformat_minor": 2
}
